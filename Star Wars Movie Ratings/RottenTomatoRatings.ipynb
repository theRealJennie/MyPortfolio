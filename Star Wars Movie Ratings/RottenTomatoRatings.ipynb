{
 "cells": [
  {
   "cell_type": "code",
   "execution_count": 2,
   "metadata": {},
   "outputs": [],
   "source": [
    "#This is a library I found to scrape movie data from Rotten Tomatoes\n",
    "from rotten_tomatoes_scraper.rt_scraper import MovieScraper\n",
    "\n",
    "from csv import writer\n",
    "\n",
    "#I manually entered these because it was the simplest way for this project\n",
    "movieURLs=(\"https://www.rottentomatoes.com/m/star_wars_a_new_hope\",\"https://www.rottentomatoes.com/m/star_wars_the_empire_strikes_back\", \n",
    "\"https://www.rottentomatoes.com/m/star_wars_episode_vi_return_of_the_jedi\",\"https://www.rottentomatoes.com/m/star_wars_episode_i_the_phantom_menace\",\n",
    "\"https://rottentomatoes.com/m/star_wars_episode_ii_attack_of_the_clones\",\"https://www.rottentomatoes.com/m/star_wars_episode_iii_revenge_of_the_sith\",\n",
    "\"https://www.rottentomatoes.com/m/star_wars_episode_vii_the_force_awakens\",\"https://www.rottentomatoes.com/m/star_wars_the_last_jedi\",\n",
    "\"https://www.rottentomatoes.com/m/star_wars_the_rise_of_skywalker\",\"https://www.rottentomatoes.com/m/solo_a_star_wars_story\",\n",
    "\"https://www.rottentomatoes.com/m/rogue_one_a_star_wars_story\",\"https://www.rottentomatoes.com/m/clone_wars\")\n",
    "\n",
    "with open(r'C:\\Users\\Owner\\Desktop\\StarWarsMoviesRottenTomatoRatings.csv','a',newline='') as f_object:\n",
    "    writer_object=writer(f_object)\n",
    "\n",
    "    for  mov in movieURLs:\n",
    "\n",
    "        #Get the URL and scrape the data for that movie\n",
    "        movie_url=mov\n",
    "        movie_scraper=MovieScraper(movie_url=movie_url)\n",
    "        movie_scraper.extract_metadata()\n",
    "\n",
    "    #Now open the csv and write the data we need for this movie\n",
    "    #with open(r'C:\\Users\\Owner\\Desktop\\Data Analysis Stuff\\testStarWars.csv','a') as f_object:\n",
    "       # writer_object=writer(f_object)\n",
    "        StarWars=movie_scraper.metadata\n",
    "        myList=(StarWars['Score_Rotten'],StarWars['Score_Audience'],StarWars['Rating'],movie_url)\n",
    "        writer_object.writerow(myList)\n",
    "    \n",
    "    f_object.close()"
   ]
  }
 ],
 "metadata": {
  "kernelspec": {
   "display_name": "Python 3.10.7 64-bit",
   "language": "python",
   "name": "python3"
  },
  "language_info": {
   "codemirror_mode": {
    "name": "ipython",
    "version": 3
   },
   "file_extension": ".py",
   "mimetype": "text/x-python",
   "name": "python",
   "nbconvert_exporter": "python",
   "pygments_lexer": "ipython3",
   "version": "3.10.7"
  },
  "orig_nbformat": 4,
  "vscode": {
   "interpreter": {
    "hash": "26de051ba29f2982a8de78e945f0abaf191376122a1563185a90213a26c5da77"
   }
  }
 },
 "nbformat": 4,
 "nbformat_minor": 2
}
